{
 "cells": [
  {
   "cell_type": "markdown",
   "metadata": {
    "slideshow": {
     "slide_type": "slide"
    }
   },
   "source": [
    "# Family of Matrices\n",
    "* Dense Matrix: $A_{i,j}$\n",
    "* Linear Functions: $\\alpha y_1 + \\beta y_2 = f(\\alpha x_1 + \\beta x_2)$\n",
    "* Sparse Matrix\n",
    "    * CSC matrix\n",
    "    * Diagonal\n",
    "    * ..."
   ]
  },
  {
   "cell_type": "markdown",
   "metadata": {
    "slideshow": {
     "slide_type": "slide"
    }
   },
   "source": [
    "# Time You Program\n",
    "\n",
    "## Example 1: Swap Rows\n",
    "\n",
    "<img src=\"attachment:swaprow.png\" width=\"400\"/>"
   ]
  },
  {
   "cell_type": "markdown",
   "metadata": {
    "slideshow": {
     "slide_type": "slide"
    }
   },
   "source": [
    "# Naive implementation"
   ]
  },
  {
   "cell_type": "code",
   "execution_count": 2,
   "metadata": {
    "slideshow": {
     "slide_type": "-"
    }
   },
   "outputs": [
    {
     "data": {
      "text/plain": [
       "swaprows! (generic function with 1 method)"
      ]
     },
     "execution_count": 2,
     "metadata": {},
     "output_type": "execute_result"
    }
   ],
   "source": [
    "function swaprows!(v::VecOrMat, i::Int, j::Int)\n",
    "    temp = v[i, :]\n",
    "    v[i, :] = v[j, :]\n",
    "    v[j, :] = temp\n",
    "    v\n",
    "end"
   ]
  },
  {
   "cell_type": "markdown",
   "metadata": {
    "slideshow": {
     "slide_type": "slide"
    }
   },
   "source": [
    "# use **@time** to time your program"
   ]
  },
  {
   "cell_type": "code",
   "execution_count": 3,
   "metadata": {
    "slideshow": {
     "slide_type": "-"
    }
   },
   "outputs": [
    {
     "name": "stdout",
     "output_type": "stream",
     "text": [
      "  0.120162 seconds (689.00 k allocations: 27.932 MiB, 5.44% gc time)\n",
      "  0.022197 seconds (653.31 k allocations: 25.969 MiB, 17.47% gc time)\n"
     ]
    }
   ],
   "source": [
    "m = randn(1<<16, 8)\n",
    "\n",
    "function test_swaprow(m::VecOrMat)\n",
    "    N = size(m, 1)\n",
    "    for i = 1:N-1\n",
    "        swaprows!(m, i, i+1)\n",
    "    end\n",
    "    m\n",
    "end\n",
    "\n",
    "@time test_swaprow(m);\n",
    "@time test_swaprow(m);"
   ]
  },
  {
   "cell_type": "markdown",
   "metadata": {
    "slideshow": {
     "slide_type": "slide"
    }
   },
   "source": [
    "# use **@benchmark** for serious benchmarks\n",
    "\n",
    "* Not warming up system\n",
    "\n",
    "    * JITing code\n",
    "    * Caches\n",
    "\n",
    "* Unstable processor frequency\n",
    "\n",
    "* Timing too short a run"
   ]
  },
  {
   "cell_type": "code",
   "execution_count": 4,
   "metadata": {
    "slideshow": {
     "slide_type": "slide"
    }
   },
   "outputs": [
    {
     "data": {
      "text/plain": [
       "BenchmarkTools.Trial: \n",
       "  memory estimate:  25.97 MiB\n",
       "  allocs estimate:  653308\n",
       "  --------------\n",
       "  minimum time:     12.866 ms (7.65% GC)\n",
       "  median time:      17.959 ms (8.86% GC)\n",
       "  mean time:        18.326 ms (10.94% GC)\n",
       "  maximum time:     27.736 ms (12.75% GC)\n",
       "  --------------\n",
       "  samples:          273\n",
       "  evals/sample:     1"
      ]
     },
     "execution_count": 4,
     "metadata": {},
     "output_type": "execute_result"
    }
   ],
   "source": [
    "using BenchmarkTools\n",
    "@benchmark test_swaprow($m)"
   ]
  },
  {
   "cell_type": "code",
   "execution_count": 4,
   "metadata": {
    "slideshow": {
     "slide_type": "fragment"
    }
   },
   "outputs": [
    {
     "data": {
      "text/plain": [
       "352"
      ]
     },
     "execution_count": 4,
     "metadata": {},
     "output_type": "execute_result"
    }
   ],
   "source": [
    "@allocated swaprows!(m, 29, 165)"
   ]
  },
  {
   "cell_type": "markdown",
   "metadata": {
    "slideshow": {
     "slide_type": "slide"
    }
   },
   "source": [
    "# Avoid Allocation"
   ]
  },
  {
   "cell_type": "code",
   "execution_count": 5,
   "metadata": {
    "slideshow": {
     "slide_type": "-"
    }
   },
   "outputs": [
    {
     "data": {
      "text/plain": [
       "BenchmarkTools.Trial: \n",
       "  memory estimate:  0 bytes\n",
       "  allocs estimate:  0\n",
       "  --------------\n",
       "  minimum time:     1.459 ms (0.00% GC)\n",
       "  median time:      1.524 ms (0.00% GC)\n",
       "  mean time:        1.582 ms (0.00% GC)\n",
       "  maximum time:     2.926 ms (0.00% GC)\n",
       "  --------------\n",
       "  samples:          3147\n",
       "  evals/sample:     1"
      ]
     },
     "execution_count": 5,
     "metadata": {},
     "output_type": "execute_result"
    }
   ],
   "source": [
    "function swaprows!(v::VecOrMat{T}, i::Int, j::Int) where T\n",
    "    for c = 1:size(v, 2)\n",
    "        temp = v[i, c]\n",
    "        v[i, c] = v[j, c]\n",
    "        v[j, c] = temp\n",
    "    end\n",
    "    v\n",
    "end\n",
    "@benchmark test_swaprow($m)"
   ]
  },
  {
   "cell_type": "markdown",
   "metadata": {
    "slideshow": {
     "slide_type": "slide"
    }
   },
   "source": [
    "# Even Faster"
   ]
  },
  {
   "cell_type": "code",
   "execution_count": 6,
   "metadata": {
    "slideshow": {
     "slide_type": "-"
    }
   },
   "outputs": [
    {
     "data": {
      "text/plain": [
       "BenchmarkTools.Trial: \n",
       "  memory estimate:  0 bytes\n",
       "  allocs estimate:  0\n",
       "  --------------\n",
       "  minimum time:     1.141 ms (0.00% GC)\n",
       "  median time:      1.196 ms (0.00% GC)\n",
       "  mean time:        1.248 ms (0.00% GC)\n",
       "  maximum time:     2.578 ms (0.00% GC)\n",
       "  --------------\n",
       "  samples:          3987\n",
       "  evals/sample:     1"
      ]
     },
     "execution_count": 6,
     "metadata": {},
     "output_type": "execute_result"
    }
   ],
   "source": [
    "@inline function swaprows!(v::VecOrMat{T}, i::Int, j::Int) where T\n",
    "    @inbounds @simd for c = 1:size(v, 2)\n",
    "        temp = v[i, c]\n",
    "        v[i, c] = v[j, c]\n",
    "        v[j, c] = temp\n",
    "    end\n",
    "    v\n",
    "end\n",
    "@benchmark test_swaprow($m)"
   ]
  },
  {
   "cell_type": "markdown",
   "metadata": {
    "slideshow": {
     "slide_type": "slide"
    }
   },
   "source": [
    "# LinearMaps.jl\n",
    "A Julia package for defining and working with linear maps, also known as linear transformations or linear operators acting on vectors."
   ]
  },
  {
   "cell_type": "code",
   "execution_count": 2,
   "metadata": {},
   "outputs": [
    {
     "name": "stdout",
     "output_type": "stream",
     "text": [
      "[-0.467109, -0.0422354, -0.657699, 0.129567, 1.36689, -1.39999, -0.899679, -0.256501]\n",
      "Complex{Float64}[-1.0+0.0im, 1.0+0.0im, 1.0+0.0im, 1.0+0.0im, 1.0+0.0im, 1.0+0.0im]\n"
     ]
    }
   ],
   "source": [
    "using LinearMaps\n",
    "lo = LinearMap{Float64}(x->swaprows!(copy(x), 2, 7), 8)\n",
    "v = randn(8)\n",
    "println(lo * v)\n",
    "E, V = eigs(lo, nev=6, which=:SR)\n",
    "println(E)"
   ]
  },
  {
   "cell_type": "code",
   "execution_count": 5,
   "metadata": {
    "slideshow": {
     "slide_type": "slide"
    }
   },
   "outputs": [
    {
     "name": "stdout",
     "output_type": "stream",
     "text": [
      "Complex{Float64}[-1.0+0.0im, 1.0+0.0im, 1.0+0.0im, 1.0+0.0im, 1.0+0.0im, 1.0+0.0im]\n"
     ]
    },
    {
     "data": {
      "text/markdown": [
       "```\n",
       "eigs(A; nev=6, ncv=max(20,2*nev+1), which=:LM, tol=0.0, maxiter=300, sigma=nothing, ritzvec=true, v0=zeros((0,))) -> (d,[v,],nconv,niter,nmult,resid)\n",
       "```\n",
       "\n",
       "Computes eigenvalues `d` of `A` using implicitly restarted Lanczos or Arnoldi iterations for real symmetric or general nonsymmetric matrices respectively.\n",
       "\n",
       "The following keyword arguments are supported:\n",
       "\n",
       "  * `nev`: Number of eigenvalues\n",
       "  * `ncv`: Number of Krylov vectors used in the computation; should satisfy `nev+1 <= ncv <= n` for real symmetric problems and `nev+2 <= ncv <= n` for other problems, where `n` is the size of the input matrix `A`. The default is `ncv = max(20,2*nev+1)`. Note that these restrictions limit the input matrix `A` to be of dimension at least 2.\n",
       "  * `which`: type of eigenvalues to compute. See the note below.\n",
       "\n",
       "| `which` | type of eigenvalues                                                                                                       |\n",
       "|:------- |:------------------------------------------------------------------------------------------------------------------------- |\n",
       "| `:LM`   | eigenvalues of largest magnitude (default)                                                                                |\n",
       "| `:SM`   | eigenvalues of smallest magnitude                                                                                         |\n",
       "| `:LR`   | eigenvalues of largest real part                                                                                          |\n",
       "| `:SR`   | eigenvalues of smallest real part                                                                                         |\n",
       "| `:LI`   | eigenvalues of largest imaginary part (nonsymmetric or complex `A` only)                                                  |\n",
       "| `:SI`   | eigenvalues of smallest imaginary part (nonsymmetric or complex `A` only)                                                 |\n",
       "| `:BE`   | compute half of the eigenvalues from each end of the spectrum, biased in favor of the high end. (real symmetric `A` only) |\n",
       "\n",
       "  * `tol`: parameter defining the relative tolerance for convergence of Ritz values (eigenvalue estimates).    A Ritz value $θ$ is considered converged when its associated residual    is less than or equal to the product of `tol` and $max(ɛ^{2/3}, |θ|)$,    where `ɛ = eps(real(eltype(A)))/2` is LAPACK's machine epsilon.    The residual associated with $θ$ and its corresponding Ritz vector $v$    is defined as the norm $||Av - vθ||$.    The specified value of `tol` should be positive; otherwise, it is ignored    and $ɛ$ is used instead.    Default: $ɛ$.\n",
       "  * `maxiter`: Maximum number of iterations (default = 300)\n",
       "  * `sigma`: Specifies the level shift used in inverse iteration. If `nothing` (default), defaults to ordinary (forward) iterations. Otherwise, find eigenvalues close to `sigma` using shift and invert iterations.\n",
       "  * `ritzvec`: Returns the Ritz vectors `v` (eigenvectors) if `true`\n",
       "  * `v0`: starting vector from which to start the iterations\n",
       "\n",
       "`eigs` returns the `nev` requested eigenvalues in `d`, the corresponding Ritz vectors `v` (only if `ritzvec=true`), the number of converged eigenvalues `nconv`, the number of iterations `niter` and the number of matrix vector multiplications `nmult`, as well as the final residual vector `resid`.\n",
       "\n",
       "# Example\n",
       "\n",
       "```jldoctest\n",
       "julia> A = spdiagm(1:4);\n",
       "\n",
       "julia> λ, ϕ = eigs(A, nev = 2);\n",
       "\n",
       "julia> λ\n",
       "2-element Array{Float64,1}:\n",
       " 4.0\n",
       " 3.0\n",
       "```\n",
       "\n",
       "!!! note\n",
       "    The `sigma` and `which` keywords interact: the description of eigenvalues searched for by `which` do *not* necessarily refer to the eigenvalues of `A`, but rather the linear operator constructed by the specification of the iteration mode implied by `sigma`.\n",
       "\n",
       "    | `sigma`         | iteration mode                   | `which` refers to eigenvalues of |\n",
       "    |:--------------- |:-------------------------------- |:-------------------------------- |\n",
       "    | `nothing`       | ordinary (forward)               | $A$                              |\n",
       "    | real or complex | inverse with level shift `sigma` | $(A - \\sigma I )^{-1}$           |\n",
       "\n",
       "\n",
       "!!! note\n",
       "    Although `tol` has a default value, the best choice depends strongly on the matrix `A`. We recommend that users _always_ specify a value for `tol` which suits their specific needs.\n",
       "\n",
       "    For details of how the errors in the computed eigenvalues are estimated, see:\n",
       "\n",
       "      * B. N. Parlett, \"The Symmetric Eigenvalue Problem\", SIAM: Philadelphia, 2/e (1998), Ch. 13.2, \"Accessing Accuracy in Lanczos Problems\", pp. 290-292 ff.\n",
       "      * R. B. Lehoucq and D. C. Sorensen, \"Deflation Techniques for an Implicitly Restarted Arnoldi Iteration\", SIAM Journal on Matrix Analysis and Applications (1996), 17(4), 789–821.  doi:10.1137/S0895479895281484\n",
       "\n",
       "\n",
       "```\n",
       "eigs(A, B; nev=6, ncv=max(20,2*nev+1), which=:LM, tol=0.0, maxiter=300, sigma=nothing, ritzvec=true, v0=zeros((0,))) -> (d,[v,],nconv,niter,nmult,resid)\n",
       "```\n",
       "\n",
       "Computes generalized eigenvalues `d` of `A` and `B` using implicitly restarted Lanczos or Arnoldi iterations for real symmetric or general nonsymmetric matrices respectively.\n",
       "\n",
       "The following keyword arguments are supported:\n",
       "\n",
       "  * `nev`: Number of eigenvalues\n",
       "  * `ncv`: Number of Krylov vectors used in the computation; should satisfy `nev+1 <= ncv <= n` for real symmetric problems and `nev+2 <= ncv <= n` for other problems, where `n` is the size of the input matrices `A` and `B`. The default is `ncv = max(20,2*nev+1)`. Note that these restrictions limit the input matrix `A` to be of dimension at least 2.\n",
       "  * `which`: type of eigenvalues to compute. See the note below.\n",
       "\n",
       "| `which` | type of eigenvalues                                                                                                       |\n",
       "|:------- |:------------------------------------------------------------------------------------------------------------------------- |\n",
       "| `:LM`   | eigenvalues of largest magnitude (default)                                                                                |\n",
       "| `:SM`   | eigenvalues of smallest magnitude                                                                                         |\n",
       "| `:LR`   | eigenvalues of largest real part                                                                                          |\n",
       "| `:SR`   | eigenvalues of smallest real part                                                                                         |\n",
       "| `:LI`   | eigenvalues of largest imaginary part (nonsymmetric or complex `A` only)                                                  |\n",
       "| `:SI`   | eigenvalues of smallest imaginary part (nonsymmetric or complex `A` only)                                                 |\n",
       "| `:BE`   | compute half of the eigenvalues from each end of the spectrum, biased in favor of the high end. (real symmetric `A` only) |\n",
       "\n",
       "  * `tol`: relative tolerance used in the convergence criterion for eigenvalues, similar to    `tol` in the [`eigs(A)`](@ref) method for the ordinary eigenvalue    problem, but effectively for the eigenvalues of $B^{-1} A$ instead of $A$.    See the documentation for the ordinary eigenvalue problem in    [`eigs(A)`](@ref) and the accompanying note about `tol`.\n",
       "  * `maxiter`: Maximum number of iterations (default = 300)\n",
       "  * `sigma`: Specifies the level shift used in inverse iteration. If `nothing` (default), defaults to ordinary (forward) iterations. Otherwise, find eigenvalues close to `sigma` using shift and invert iterations.\n",
       "  * `ritzvec`: Returns the Ritz vectors `v` (eigenvectors) if `true`\n",
       "  * `v0`: starting vector from which to start the iterations\n",
       "\n",
       "`eigs` returns the `nev` requested eigenvalues in `d`, the corresponding Ritz vectors `v` (only if `ritzvec=true`), the number of converged eigenvalues `nconv`, the number of iterations `niter` and the number of matrix vector multiplications `nmult`, as well as the final residual vector `resid`.\n",
       "\n",
       "# Example\n",
       "\n",
       "```jldoctest\n",
       "julia> A = speye(4, 4); B = spdiagm(1:4);\n",
       "\n",
       "julia> λ, ϕ = eigs(A, B, nev = 2);\n",
       "\n",
       "julia> λ\n",
       "2-element Array{Float64,1}:\n",
       " 1.0\n",
       " 0.5\n",
       "```\n",
       "\n",
       "!!! note\n",
       "    The `sigma` and `which` keywords interact: the description of eigenvalues searched for by `which` do *not* necessarily refer to the eigenvalue problem $Av = Bv\\lambda$, but rather the linear operator constructed by the specification of the iteration mode implied by `sigma`.\n",
       "\n",
       "    | `sigma`         | iteration mode                   | `which` refers to the problem  |\n",
       "    |:--------------- |:-------------------------------- |:------------------------------ |\n",
       "    | `nothing`       | ordinary (forward)               | $Av = Bv\\lambda$               |\n",
       "    | real or complex | inverse with level shift `sigma` | $(A - \\sigma B )^{-1}B = v\\nu$ |\n",
       "\n"
      ],
      "text/plain": [
       "```\n",
       "eigs(A; nev=6, ncv=max(20,2*nev+1), which=:LM, tol=0.0, maxiter=300, sigma=nothing, ritzvec=true, v0=zeros((0,))) -> (d,[v,],nconv,niter,nmult,resid)\n",
       "```\n",
       "\n",
       "Computes eigenvalues `d` of `A` using implicitly restarted Lanczos or Arnoldi iterations for real symmetric or general nonsymmetric matrices respectively.\n",
       "\n",
       "The following keyword arguments are supported:\n",
       "\n",
       "  * `nev`: Number of eigenvalues\n",
       "  * `ncv`: Number of Krylov vectors used in the computation; should satisfy `nev+1 <= ncv <= n` for real symmetric problems and `nev+2 <= ncv <= n` for other problems, where `n` is the size of the input matrix `A`. The default is `ncv = max(20,2*nev+1)`. Note that these restrictions limit the input matrix `A` to be of dimension at least 2.\n",
       "  * `which`: type of eigenvalues to compute. See the note below.\n",
       "\n",
       "| `which` | type of eigenvalues                                                                                                       |\n",
       "|:------- |:------------------------------------------------------------------------------------------------------------------------- |\n",
       "| `:LM`   | eigenvalues of largest magnitude (default)                                                                                |\n",
       "| `:SM`   | eigenvalues of smallest magnitude                                                                                         |\n",
       "| `:LR`   | eigenvalues of largest real part                                                                                          |\n",
       "| `:SR`   | eigenvalues of smallest real part                                                                                         |\n",
       "| `:LI`   | eigenvalues of largest imaginary part (nonsymmetric or complex `A` only)                                                  |\n",
       "| `:SI`   | eigenvalues of smallest imaginary part (nonsymmetric or complex `A` only)                                                 |\n",
       "| `:BE`   | compute half of the eigenvalues from each end of the spectrum, biased in favor of the high end. (real symmetric `A` only) |\n",
       "\n",
       "  * `tol`: parameter defining the relative tolerance for convergence of Ritz values (eigenvalue estimates).    A Ritz value $θ$ is considered converged when its associated residual    is less than or equal to the product of `tol` and $max(ɛ^{2/3}, |θ|)$,    where `ɛ = eps(real(eltype(A)))/2` is LAPACK's machine epsilon.    The residual associated with $θ$ and its corresponding Ritz vector $v$    is defined as the norm $||Av - vθ||$.    The specified value of `tol` should be positive; otherwise, it is ignored    and $ɛ$ is used instead.    Default: $ɛ$.\n",
       "  * `maxiter`: Maximum number of iterations (default = 300)\n",
       "  * `sigma`: Specifies the level shift used in inverse iteration. If `nothing` (default), defaults to ordinary (forward) iterations. Otherwise, find eigenvalues close to `sigma` using shift and invert iterations.\n",
       "  * `ritzvec`: Returns the Ritz vectors `v` (eigenvectors) if `true`\n",
       "  * `v0`: starting vector from which to start the iterations\n",
       "\n",
       "`eigs` returns the `nev` requested eigenvalues in `d`, the corresponding Ritz vectors `v` (only if `ritzvec=true`), the number of converged eigenvalues `nconv`, the number of iterations `niter` and the number of matrix vector multiplications `nmult`, as well as the final residual vector `resid`.\n",
       "\n",
       "# Example\n",
       "\n",
       "```jldoctest\n",
       "julia> A = spdiagm(1:4);\n",
       "\n",
       "julia> λ, ϕ = eigs(A, nev = 2);\n",
       "\n",
       "julia> λ\n",
       "2-element Array{Float64,1}:\n",
       " 4.0\n",
       " 3.0\n",
       "```\n",
       "\n",
       "!!! note\n",
       "    The `sigma` and `which` keywords interact: the description of eigenvalues searched for by `which` do *not* necessarily refer to the eigenvalues of `A`, but rather the linear operator constructed by the specification of the iteration mode implied by `sigma`.\n",
       "\n",
       "    | `sigma`         | iteration mode                   | `which` refers to eigenvalues of |\n",
       "    |:--------------- |:-------------------------------- |:-------------------------------- |\n",
       "    | `nothing`       | ordinary (forward)               | $A$                              |\n",
       "    | real or complex | inverse with level shift `sigma` | $(A - \\sigma I )^{-1}$           |\n",
       "\n",
       "\n",
       "!!! note\n",
       "    Although `tol` has a default value, the best choice depends strongly on the matrix `A`. We recommend that users _always_ specify a value for `tol` which suits their specific needs.\n",
       "\n",
       "    For details of how the errors in the computed eigenvalues are estimated, see:\n",
       "\n",
       "      * B. N. Parlett, \"The Symmetric Eigenvalue Problem\", SIAM: Philadelphia, 2/e (1998), Ch. 13.2, \"Accessing Accuracy in Lanczos Problems\", pp. 290-292 ff.\n",
       "      * R. B. Lehoucq and D. C. Sorensen, \"Deflation Techniques for an Implicitly Restarted Arnoldi Iteration\", SIAM Journal on Matrix Analysis and Applications (1996), 17(4), 789–821.  doi:10.1137/S0895479895281484\n",
       "\n",
       "\n",
       "```\n",
       "eigs(A, B; nev=6, ncv=max(20,2*nev+1), which=:LM, tol=0.0, maxiter=300, sigma=nothing, ritzvec=true, v0=zeros((0,))) -> (d,[v,],nconv,niter,nmult,resid)\n",
       "```\n",
       "\n",
       "Computes generalized eigenvalues `d` of `A` and `B` using implicitly restarted Lanczos or Arnoldi iterations for real symmetric or general nonsymmetric matrices respectively.\n",
       "\n",
       "The following keyword arguments are supported:\n",
       "\n",
       "  * `nev`: Number of eigenvalues\n",
       "  * `ncv`: Number of Krylov vectors used in the computation; should satisfy `nev+1 <= ncv <= n` for real symmetric problems and `nev+2 <= ncv <= n` for other problems, where `n` is the size of the input matrices `A` and `B`. The default is `ncv = max(20,2*nev+1)`. Note that these restrictions limit the input matrix `A` to be of dimension at least 2.\n",
       "  * `which`: type of eigenvalues to compute. See the note below.\n",
       "\n",
       "| `which` | type of eigenvalues                                                                                                       |\n",
       "|:------- |:------------------------------------------------------------------------------------------------------------------------- |\n",
       "| `:LM`   | eigenvalues of largest magnitude (default)                                                                                |\n",
       "| `:SM`   | eigenvalues of smallest magnitude                                                                                         |\n",
       "| `:LR`   | eigenvalues of largest real part                                                                                          |\n",
       "| `:SR`   | eigenvalues of smallest real part                                                                                         |\n",
       "| `:LI`   | eigenvalues of largest imaginary part (nonsymmetric or complex `A` only)                                                  |\n",
       "| `:SI`   | eigenvalues of smallest imaginary part (nonsymmetric or complex `A` only)                                                 |\n",
       "| `:BE`   | compute half of the eigenvalues from each end of the spectrum, biased in favor of the high end. (real symmetric `A` only) |\n",
       "\n",
       "  * `tol`: relative tolerance used in the convergence criterion for eigenvalues, similar to    `tol` in the [`eigs(A)`](@ref) method for the ordinary eigenvalue    problem, but effectively for the eigenvalues of $B^{-1} A$ instead of $A$.    See the documentation for the ordinary eigenvalue problem in    [`eigs(A)`](@ref) and the accompanying note about `tol`.\n",
       "  * `maxiter`: Maximum number of iterations (default = 300)\n",
       "  * `sigma`: Specifies the level shift used in inverse iteration. If `nothing` (default), defaults to ordinary (forward) iterations. Otherwise, find eigenvalues close to `sigma` using shift and invert iterations.\n",
       "  * `ritzvec`: Returns the Ritz vectors `v` (eigenvectors) if `true`\n",
       "  * `v0`: starting vector from which to start the iterations\n",
       "\n",
       "`eigs` returns the `nev` requested eigenvalues in `d`, the corresponding Ritz vectors `v` (only if `ritzvec=true`), the number of converged eigenvalues `nconv`, the number of iterations `niter` and the number of matrix vector multiplications `nmult`, as well as the final residual vector `resid`.\n",
       "\n",
       "# Example\n",
       "\n",
       "```jldoctest\n",
       "julia> A = speye(4, 4); B = spdiagm(1:4);\n",
       "\n",
       "julia> λ, ϕ = eigs(A, B, nev = 2);\n",
       "\n",
       "julia> λ\n",
       "2-element Array{Float64,1}:\n",
       " 1.0\n",
       " 0.5\n",
       "```\n",
       "\n",
       "!!! note\n",
       "    The `sigma` and `which` keywords interact: the description of eigenvalues searched for by `which` do *not* necessarily refer to the eigenvalue problem $Av = Bv\\lambda$, but rather the linear operator constructed by the specification of the iteration mode implied by `sigma`.\n",
       "\n",
       "    | `sigma`         | iteration mode                   | `which` refers to the problem  |\n",
       "    |:--------------- |:-------------------------------- |:------------------------------ |\n",
       "    | `nothing`       | ordinary (forward)               | $Av = Bv\\lambda$               |\n",
       "    | real or complex | inverse with level shift `sigma` | $(A - \\sigma B )^{-1}B = v\\nu$ |\n",
       "\n"
      ]
     },
     "execution_count": 5,
     "metadata": {},
     "output_type": "execute_result"
    },
    {
     "name": "stdout",
     "output_type": "stream",
     "text": [
      "search: \u001b[1me\u001b[22m\u001b[1mi\u001b[22m\u001b[1mg\u001b[22m\u001b[1ms\u001b[22m \u001b[1me\u001b[22m\u001b[1mi\u001b[22m\u001b[1mg\u001b[22mvec\u001b[1ms\u001b[22m \u001b[1me\u001b[22m\u001b[1mi\u001b[22m\u001b[1mg\u001b[22mval\u001b[1ms\u001b[22m \u001b[1me\u001b[22m\u001b[1mi\u001b[22m\u001b[1mg\u001b[22mval\u001b[1ms\u001b[22m! l\u001b[1me\u001b[22mad\u001b[1mi\u001b[22mn\u001b[1mg\u001b[22m_one\u001b[1ms\u001b[22m l\u001b[1me\u001b[22mad\u001b[1mi\u001b[22mn\u001b[1mg\u001b[22m_zero\u001b[1ms\u001b[22m \u001b[1me\u001b[22m\u001b[1mi\u001b[22m\u001b[1mg\u001b[22m \u001b[1me\u001b[22m\u001b[1mi\u001b[22m\u001b[1mg\u001b[22mmin\n",
      "\n"
     ]
    }
   ],
   "source": [
    "?eigs"
   ]
  },
  {
   "cell_type": "markdown",
   "metadata": {
    "slideshow": {
     "slide_type": "slide"
    }
   },
   "source": [
    "# Time Evolution $e^{-iHt}$\n",
    "\n",
    "$H$ is hermitian: $H'=H$"
   ]
  },
  {
   "cell_type": "code",
   "execution_count": 19,
   "metadata": {
    "slideshow": {
     "slide_type": "-"
    }
   },
   "outputs": [
    {
     "data": {
      "text/plain": [
       "8-element Array{Complex{Float64},1}:\n",
       "  -1.83923+0.184538im \n",
       " -0.169705-0.105687im \n",
       "  -1.15099+0.115484im \n",
       "  0.115999-0.0116388im\n",
       "  -1.03657+0.104003im \n",
       "  0.586516-0.0588478im\n",
       "   1.05335+0.0170273im\n",
       "  -2.36512+0.237304im "
      ]
     },
     "execution_count": 19,
     "metadata": {},
     "output_type": "execute_result"
    }
   ],
   "source": [
    "# Pkg.clone(\"https://github.com/GiggleLiu/Expokit.jl.git\")\n",
    "using Expokit\n",
    "A = randn(8,8)\n",
    "v = randn(8)\n",
    "t = 0.1\n",
    "expmv(-im*t, lo, v)"
   ]
  },
  {
   "cell_type": "code",
   "execution_count": 13,
   "metadata": {
    "slideshow": {
     "slide_type": "slide"
    }
   },
   "outputs": [
    {
     "name": "stdout",
     "output_type": "stream",
     "text": [
      "search: "
     ]
    },
    {
     "data": {
      "text/markdown": [
       "```\n",
       "expmv{T}(t, A, vec; [tol], [m], [norm])\n",
       "```\n",
       "\n",
       "Calculate matrix exponential acting on some vector, $w = e^{tA}v$, using the Krylov subspace approximation.\n",
       "\n",
       "See R.B. Sidje, ACM Trans. Math. Softw., 24(1):130-156, 1998 and http://www.maths.uq.edu.au/expokit\n"
      ],
      "text/plain": [
       "```\n",
       "expmv{T}(t, A, vec; [tol], [m], [norm])\n",
       "```\n",
       "\n",
       "Calculate matrix exponential acting on some vector, $w = e^{tA}v$, using the Krylov subspace approximation.\n",
       "\n",
       "See R.B. Sidje, ACM Trans. Math. Softw., 24(1):130-156, 1998 and http://www.maths.uq.edu.au/expokit\n"
      ]
     },
     "execution_count": 13,
     "metadata": {},
     "output_type": "execute_result"
    },
    {
     "name": "stdout",
     "output_type": "stream",
     "text": [
      "\u001b[1me\u001b[22m\u001b[1mx\u001b[22m\u001b[1mp\u001b[22m\u001b[1mm\u001b[22m\u001b[1mv\u001b[22m \u001b[1me\u001b[22m\u001b[1mx\u001b[22m\u001b[1mp\u001b[22m\u001b[1mm\u001b[22m\u001b[1mv\u001b[22m! \u001b[1me\u001b[22m\u001b[1mx\u001b[22m\u001b[1mp\u001b[22m\u001b[1mm\u001b[22m1 \u001b[1me\u001b[22m\u001b[1mx\u001b[22m\u001b[1mp\u001b[22m\u001b[1mm\u001b[22m\n",
      "\n"
     ]
    }
   ],
   "source": [
    "?expmv"
   ]
  },
  {
   "cell_type": "markdown",
   "metadata": {
    "slideshow": {
     "slide_type": "slide"
    }
   },
   "source": [
    "# ExpmV can be even faster\n",
    "### Matrix density 0.001\n",
    "| Matrix rows                   |  `Expm` | `Expokit` | `ExpmV`               |\n",
    "|-----------------------|---------:|-----------:|-------:|\n",
    "| 32      |  31.147 μs  | 12.144 μs  | 55.103 μs |\n",
    "| 64      | 471.424 μs  | 15.816 μs  | 53.599 μs |\n",
    "| 128     |   7.368 ms  | 34.339 μs  | 60.320 μs |\n",
    "| 256     |  27.817 ms  | 61.137 μs  | 76.773 μs |\n",
    "| 512     | 325.282 ms  |182.016 μs  |142.402 μs |\n",
    "| 1024    |    1.568 s  |  2.137 ms  |306.293 μs |\n",
    "\n",
    "But for now, it support only SparseMatrixCSC as input."
   ]
  },
  {
   "cell_type": "markdown",
   "metadata": {
    "slideshow": {
     "slide_type": "slide"
    }
   },
   "source": [
    "# On my laptop"
   ]
  },
  {
   "cell_type": "code",
   "execution_count": 20,
   "metadata": {},
   "outputs": [
    {
     "data": {
      "text/plain": [
       "BenchmarkTools.Trial: \n",
       "  memory estimate:  570.77 KiB\n",
       "  allocs estimate:  100\n",
       "  --------------\n",
       "  minimum time:     835.185 μs (0.00% GC)\n",
       "  median time:      885.291 μs (0.00% GC)\n",
       "  mean time:        1.731 ms (1.79% GC)\n",
       "  maximum time:     50.582 ms (0.00% GC)\n",
       "  --------------\n",
       "  samples:          2883\n",
       "  evals/sample:     1"
      ]
     },
     "execution_count": 20,
     "metadata": {},
     "output_type": "execute_result"
    }
   ],
   "source": [
    "sp = sprand(1024, 1024, 0.001)\n",
    "v = randn(1024)\n",
    "\n",
    "# scipy is ~2ms\n",
    "@benchmark expmv(1, $sp, $v)"
   ]
  },
  {
   "cell_type": "markdown",
   "metadata": {
    "slideshow": {
     "slide_type": "slide"
    }
   },
   "source": [
    "# Example 2: 2×2 matrix apply on rows\n",
    "\n",
    "<img src=\"attachment:u1row.png\" width=\"400\">"
   ]
  },
  {
   "cell_type": "code",
   "execution_count": 14,
   "metadata": {
    "slideshow": {
     "slide_type": "slide"
    }
   },
   "outputs": [
    {
     "data": {
      "text/plain": [
       "unrows! (generic function with 1 method)"
      ]
     },
     "execution_count": 14,
     "metadata": {},
     "output_type": "execute_result"
    }
   ],
   "source": [
    "@inline function unrows!(state::Matrix, inds::AbstractVector, U::AbstractMatrix)\n",
    "    @simd for k in 1:size(state, 2)\n",
    "        @inbounds state[inds, k] .= U*view(state, inds, k)\n",
    "    end\n",
    "    state\n",
    "end"
   ]
  },
  {
   "cell_type": "markdown",
   "metadata": {
    "slideshow": {
     "slide_type": "slide"
    }
   },
   "source": [
    "# Normally, we use 2 × 2 Matrix"
   ]
  },
  {
   "cell_type": "code",
   "execution_count": 16,
   "metadata": {},
   "outputs": [
    {
     "data": {
      "text/plain": [
       "BenchmarkTools.Trial: \n",
       "  memory estimate:  1.38 KiB\n",
       "  allocs estimate:  24\n",
       "  --------------\n",
       "  minimum time:     452.401 ns (0.00% GC)\n",
       "  median time:      566.939 ns (0.00% GC)\n",
       "  mean time:        727.086 ns (23.87% GC)\n",
       "  maximum time:     19.972 μs (93.65% GC)\n",
       "  --------------\n",
       "  samples:          10000\n",
       "  evals/sample:     197"
      ]
     },
     "execution_count": 16,
     "metadata": {},
     "output_type": "execute_result"
    }
   ],
   "source": [
    "u1 = randn(2,2)\n",
    "inds1 =  [1,3]  # apply on position 1,3\n",
    "\n",
    "state = randn(1000, 8)\n",
    "@benchmark unrows!($state, $inds1, $u1)"
   ]
  },
  {
   "cell_type": "markdown",
   "metadata": {
    "slideshow": {
     "slide_type": "slide"
    }
   },
   "source": [
    "# StaticArrays\n",
    "\n",
    "\n",
    "Statically sized arrays for Julia\n",
    "\n",
    "StaticArrays.jl\n",
    "\n",
    "https://github.com/JuliaArrays/StaticArrays.jl"
   ]
  },
  {
   "cell_type": "code",
   "execution_count": 30,
   "metadata": {},
   "outputs": [
    {
     "data": {
      "text/plain": [
       "2×2 StaticArrays.SArray{Tuple{2,2},Int64,2,4}:\n",
       " 1  3\n",
       " 2  4"
      ]
     },
     "execution_count": 30,
     "metadata": {},
     "output_type": "execute_result"
    }
   ],
   "source": [
    "using StaticArrays\n",
    "v = SVector{3}([1, 2, 3])\n",
    "m = SMatrix{2,2}([1 3 ; 2 4])"
   ]
  },
  {
   "cell_type": "markdown",
   "metadata": {
    "slideshow": {
     "slide_type": "slide"
    }
   },
   "source": [
    "## Speed\n",
    "\n",
    "The speed of small SVectors, SMatrixs and SArrays is often > 10 × faster than Base.Array. See this simplified benchmark (or see the full results here):\n",
    "\n",
    "```\n",
    "============================================\n",
    "    Benchmarks for 3×3 Float64 matrices\n",
    "============================================\n",
    "\n",
    "Matrix multiplication               -> 8.2x speedup\n",
    "Matrix multiplication (mutating)    -> 3.1x speedup\n",
    "Matrix addition                     -> 45x speedup\n",
    "Matrix addition (mutating)          -> 5.1x speedup\n",
    "Matrix determinant                  -> 170x speedup\n",
    "Matrix inverse                      -> 125x speedup\n",
    "Matrix symmetric eigendecomposition -> 82x speedup\n",
    "Matrix Cholesky decomposition       -> 23.6x speedup\n",
    "```\n",
    "These results improve significantly when using julia -O3 with immutable static arrays, as the extra optimization results in surprisingly good SIMD code."
   ]
  },
  {
   "cell_type": "markdown",
   "metadata": {
    "slideshow": {
     "slide_type": "slide"
    }
   },
   "source": [
    "# static arrays can avoid allocations"
   ]
  },
  {
   "cell_type": "code",
   "execution_count": 18,
   "metadata": {
    "slideshow": {
     "slide_type": "-"
    }
   },
   "outputs": [
    {
     "name": "stderr",
     "output_type": "stream",
     "text": [
      "\u001b[1m\u001b[36mINFO: \u001b[39m\u001b[22m\u001b[36mRecompiling stale cache file /home/leo/.julia/lib/v0.6/StaticArrays.ji for module StaticArrays.\n",
      "\u001b[39m"
     ]
    },
    {
     "data": {
      "text/plain": [
       "BenchmarkTools.Trial: \n",
       "  memory estimate:  0 bytes\n",
       "  allocs estimate:  0\n",
       "  --------------\n",
       "  minimum time:     23.454 ns (0.00% GC)\n",
       "  median time:      23.515 ns (0.00% GC)\n",
       "  mean time:        23.636 ns (0.00% GC)\n",
       "  maximum time:     98.341 ns (0.00% GC)\n",
       "  --------------\n",
       "  samples:          10000\n",
       "  evals/sample:     996"
      ]
     },
     "execution_count": 18,
     "metadata": {},
     "output_type": "execute_result"
    }
   ],
   "source": [
    "su1 = SMatrix{2,2}(u1)\n",
    "@benchmark unrows!($state, $inds1, $su1)"
   ]
  },
  {
   "cell_type": "markdown",
   "metadata": {
    "slideshow": {
     "slide_type": "slide"
    }
   },
   "source": [
    "# The expanded realization, even faster!"
   ]
  },
  {
   "cell_type": "code",
   "execution_count": 22,
   "metadata": {},
   "outputs": [
    {
     "data": {
      "text/plain": [
       "BenchmarkTools.Trial: \n",
       "  memory estimate:  0 bytes\n",
       "  allocs estimate:  0\n",
       "  --------------\n",
       "  minimum time:     13.594 ns (0.00% GC)\n",
       "  median time:      13.629 ns (0.00% GC)\n",
       "  mean time:        13.779 ns (0.00% GC)\n",
       "  maximum time:     116.071 ns (0.00% GC)\n",
       "  --------------\n",
       "  samples:          10000\n",
       "  evals/sample:     998"
      ]
     },
     "execution_count": 22,
     "metadata": {},
     "output_type": "execute_result"
    }
   ],
   "source": [
    "@inline function u1rows!(state::Matrix, i::Int,j::Int, a, b, c, d)\n",
    "    @inbounds @simd for col = 1:size(state, 2)\n",
    "        w = state[i, col]\n",
    "        v = state[j, col]\n",
    "        state[i, col] = a*w+b*v\n",
    "        state[j, col] = c*w+d*v\n",
    "    end\n",
    "    state\n",
    "end\n",
    "\n",
    "i, j = inds1\n",
    "a, b, c, d = u1\n",
    "@benchmark u1rows!($state, $i, $j, $a, $b, $c, $d)"
   ]
  },
  {
   "cell_type": "markdown",
   "metadata": {
    "slideshow": {
     "slide_type": "slide"
    }
   },
   "source": [
    "# So far\n",
    "* How to `@time` and `@benchmark` a piece of code\n",
    "* Use `@simd`, `@inbounds` and `@inline` to speed up codes\n",
    "* Use `LinearMaps.jl` to view a linear function as a matrix\n",
    "* Use `Expokit` to perform time evolution\n",
    "* Use `StaticArrays.jl` for small matrices of fixed size to avoid allocation\n",
    "\n",
    "What I am going to talk\n",
    "* Sparse Matrices\n",
    "* Tensor Operations"
   ]
  },
  {
   "cell_type": "markdown",
   "metadata": {
    "slideshow": {
     "slide_type": "slide"
    }
   },
   "source": [
    "# Sparse matrices\n",
    "There are seven available sparse matrix types in **scipy**:\n",
    "* **csc_matrix**: Compressed Sparse Column format\n",
    "* csr_matrix: Compressed Sparse Row format\n",
    "* bsr_matrix: Block Sparse Row format\n",
    "* lil_matrix: List of Lists format\n",
    "* dok_matrix: Dictionary of Keys format\n",
    "* coo_matrix: COOrdinate format (aka IJV, triplet format)\n",
    "* **dia_matrix**: DIAgonal format"
   ]
  },
  {
   "cell_type": "markdown",
   "metadata": {
    "slideshow": {
     "slide_type": "slide"
    }
   },
   "source": [
    "# Example 3: Sparse Matrix\n",
    "$$\\left(\\begin{matrix}\n",
    "1 & 0 & 2\\\\\n",
    "4 & 0 & 0\\\\\n",
    "0 & 3 & 0\n",
    "\\end{matrix}\\right)$$\n",
    "\n",
    "data structure of CSC matrix\n",
    "* colptr = [1, 3, 4, 5],\n",
    "* rowval = [1,2,3,1],\n",
    "* nzval = [1,4,3,2]."
   ]
  },
  {
   "cell_type": "code",
   "execution_count": 5,
   "metadata": {
    "slideshow": {
     "slide_type": "slide"
    }
   },
   "outputs": [
    {
     "data": {
      "text/plain": [
       "3×3 Array{Int64,2}:\n",
       " 1  0  2\n",
       " 4  0  0\n",
       " 0  3  0"
      ]
     },
     "execution_count": 5,
     "metadata": {},
     "output_type": "execute_result"
    }
   ],
   "source": [
    "sa1 = sparse([1,1,2,3], [1,3,1,2],[1,2,4,3])\n",
    "sa1 |> Matrix"
   ]
  },
  {
   "cell_type": "code",
   "execution_count": 41,
   "metadata": {
    "slideshow": {
     "slide_type": "slide"
    }
   },
   "outputs": [
    {
     "data": {
      "text/markdown": [
       "```\n",
       "sparse(A)\n",
       "```\n",
       "\n",
       "Convert an AbstractMatrix `A` into a sparse matrix.\n",
       "\n",
       "```jldoctest\n",
       "julia> A = eye(3)\n",
       "3×3 Array{Float64,2}:\n",
       " 1.0  0.0  0.0\n",
       " 0.0  1.0  0.0\n",
       " 0.0  0.0  1.0\n",
       "\n",
       "julia> sparse(A)\n",
       "3×3 SparseMatrixCSC{Float64,Int64} with 3 stored entries:\n",
       "  [1, 1]  =  1.0\n",
       "  [2, 2]  =  1.0\n",
       "  [3, 3]  =  1.0\n",
       "```\n",
       "\n",
       "```\n",
       "sparse(I, J, V,[ m, n, combine])\n",
       "```\n",
       "\n",
       "Create a sparse matrix `S` of dimensions `m x n` such that `S[I[k], J[k]] = V[k]`. The `combine` function is used to combine duplicates. If `m` and `n` are not specified, they are set to `maximum(I)` and `maximum(J)` respectively. If the `combine` function is not supplied, `combine` defaults to `+` unless the elements of `V` are Booleans in which case `combine` defaults to `|`. All elements of `I` must satisfy `1 <= I[k] <= m`, and all elements of `J` must satisfy `1 <= J[k] <= n`. Numerical zeros in (`I`, `J`, `V`) are retained as structural nonzeros; to drop numerical zeros, use [`dropzeros!`](@ref).\n",
       "\n",
       "For additional documentation and an expert driver, see `Base.SparseArrays.sparse!`.\n",
       "\n",
       "```jldoctest\n",
       "julia> Is = [1; 2; 3];\n",
       "\n",
       "julia> Js = [1; 2; 3];\n",
       "\n",
       "julia> Vs = [1; 2; 3];\n",
       "\n",
       "julia> sparse(Is, Js, Vs)\n",
       "3×3 SparseMatrixCSC{Int64,Int64} with 3 stored entries:\n",
       "  [1, 1]  =  1\n",
       "  [2, 2]  =  2\n",
       "  [3, 3]  =  3\n",
       "```\n"
      ],
      "text/plain": [
       "```\n",
       "sparse(A)\n",
       "```\n",
       "\n",
       "Convert an AbstractMatrix `A` into a sparse matrix.\n",
       "\n",
       "```jldoctest\n",
       "julia> A = eye(3)\n",
       "3×3 Array{Float64,2}:\n",
       " 1.0  0.0  0.0\n",
       " 0.0  1.0  0.0\n",
       " 0.0  0.0  1.0\n",
       "\n",
       "julia> sparse(A)\n",
       "3×3 SparseMatrixCSC{Float64,Int64} with 3 stored entries:\n",
       "  [1, 1]  =  1.0\n",
       "  [2, 2]  =  1.0\n",
       "  [3, 3]  =  1.0\n",
       "```\n",
       "\n",
       "```\n",
       "sparse(I, J, V,[ m, n, combine])\n",
       "```\n",
       "\n",
       "Create a sparse matrix `S` of dimensions `m x n` such that `S[I[k], J[k]] = V[k]`. The `combine` function is used to combine duplicates. If `m` and `n` are not specified, they are set to `maximum(I)` and `maximum(J)` respectively. If the `combine` function is not supplied, `combine` defaults to `+` unless the elements of `V` are Booleans in which case `combine` defaults to `|`. All elements of `I` must satisfy `1 <= I[k] <= m`, and all elements of `J` must satisfy `1 <= J[k] <= n`. Numerical zeros in (`I`, `J`, `V`) are retained as structural nonzeros; to drop numerical zeros, use [`dropzeros!`](@ref).\n",
       "\n",
       "For additional documentation and an expert driver, see `Base.SparseArrays.sparse!`.\n",
       "\n",
       "```jldoctest\n",
       "julia> Is = [1; 2; 3];\n",
       "\n",
       "julia> Js = [1; 2; 3];\n",
       "\n",
       "julia> Vs = [1; 2; 3];\n",
       "\n",
       "julia> sparse(Is, Js, Vs)\n",
       "3×3 SparseMatrixCSC{Int64,Int64} with 3 stored entries:\n",
       "  [1, 1]  =  1\n",
       "  [2, 2]  =  2\n",
       "  [3, 3]  =  3\n",
       "```\n"
      ]
     },
     "execution_count": 41,
     "metadata": {},
     "output_type": "execute_result"
    },
    {
     "name": "stdout",
     "output_type": "stream",
     "text": [
      "search: \u001b[1ms\u001b[22m\u001b[1mp\u001b[22m\u001b[1ma\u001b[22m\u001b[1mr\u001b[22m\u001b[1ms\u001b[22m\u001b[1me\u001b[22m \u001b[1ms\u001b[22m\u001b[1mp\u001b[22m\u001b[1ma\u001b[22m\u001b[1mr\u001b[22m\u001b[1ms\u001b[22m\u001b[1me\u001b[22mvec \u001b[1mS\u001b[22m\u001b[1mp\u001b[22m\u001b[1ma\u001b[22m\u001b[1mr\u001b[22m\u001b[1ms\u001b[22m\u001b[1me\u001b[22mVector \u001b[1mS\u001b[22m\u001b[1mp\u001b[22m\u001b[1ma\u001b[22m\u001b[1mr\u001b[22m\u001b[1ms\u001b[22m\u001b[1me\u001b[22mArrays \u001b[1mS\u001b[22m\u001b[1mp\u001b[22m\u001b[1ma\u001b[22m\u001b[1mr\u001b[22m\u001b[1ms\u001b[22m\u001b[1me\u001b[22mMatrixCSC i\u001b[1ms\u001b[22ms\u001b[1mp\u001b[22m\u001b[1ma\u001b[22m\u001b[1mr\u001b[22m\u001b[1ms\u001b[22m\u001b[1me\u001b[22m\n",
      "\n"
     ]
    }
   ],
   "source": [
    "?sparse"
   ]
  },
  {
   "cell_type": "code",
   "execution_count": 24,
   "metadata": {
    "slideshow": {
     "slide_type": "slide"
    }
   },
   "outputs": [
    {
     "data": {
      "text/plain": [
       "3×3 Array{Int64,2}:\n",
       " 1  0  2\n",
       " 4  0  0\n",
       " 0  3  0"
      ]
     },
     "execution_count": 24,
     "metadata": {},
     "output_type": "execute_result"
    }
   ],
   "source": [
    "sa = SparseMatrixCSC(3, 3, [1,3,4,5], [1,2,3,1], [1,4,3,2])\n",
    "sa |> Matrix"
   ]
  },
  {
   "cell_type": "code",
   "execution_count": 25,
   "metadata": {},
   "outputs": [
    {
     "name": "stdout",
     "output_type": "stream",
     "text": [
      "SparseMatrixCSC{Int64,Int64}\n",
      "  m: Int64 3\n",
      "  n: Int64 3\n",
      "  colptr: Array{Int64}((4,)) [1, 3, 4, 5]\n",
      "  rowval: Array{Int64}((4,)) [1, 2, 3, 1]\n",
      "  nzval: Array{Int64}((4,)) [1, 4, 3, 2]\n"
     ]
    }
   ],
   "source": [
    "dump(sa)"
   ]
  },
  {
   "cell_type": "markdown",
   "metadata": {
    "slideshow": {
     "slide_type": "slide"
    }
   },
   "source": [
    "# Generalized Permutation Matrix\n",
    "\n",
    "## Example: Control-Y Gate\n",
    "$$\\left(\\begin{matrix}\n",
    "1 & 0 & 0 & 0\\\\\n",
    "0 & 1 & 0 & 0\\\\\n",
    "0 & 0 & 0 & -i\\\\\n",
    "0 & 0 & i & 0\\\\\n",
    "\\end{matrix}\\right)$$\n",
    "\n",
    "data structure of `PermMatrix`\n",
    "* perm: [1, 2, 4, 3]\n",
    "* vals: [1, 1, -i, i]"
   ]
  },
  {
   "cell_type": "code",
   "execution_count": 6,
   "metadata": {
    "slideshow": {
     "slide_type": "slide"
    }
   },
   "outputs": [
    {
     "data": {
      "text/plain": [
       "4×4 Yao.LuxurySparse.PermMatrix{Complex{Int64},Int64,Array{Complex{Int64},1},Array{Int64,1}}:\n",
       " 1+0im   0      0      0   \n",
       "  0     1+0im   0      0   \n",
       "  0      0      0     0-1im\n",
       "  0      0     0+1im   0   "
      ]
     },
     "execution_count": 6,
     "metadata": {},
     "output_type": "execute_result"
    }
   ],
   "source": [
    "using Yao.LuxurySparse\n",
    "pm = PermMatrix([1,2,4,3], [1,1,-im,im])"
   ]
  },
  {
   "cell_type": "code",
   "execution_count": 15,
   "metadata": {
    "slideshow": {
     "slide_type": "slide"
    }
   },
   "outputs": [
    {
     "data": {
      "text/plain": [
       "BenchmarkTools.Trial: \n",
       "  memory estimate:  144 bytes\n",
       "  allocs estimate:  1\n",
       "  --------------\n",
       "  minimum time:     36.789 ns (0.00% GC)\n",
       "  median time:      38.816 ns (0.00% GC)\n",
       "  mean time:        49.227 ns (10.20% GC)\n",
       "  maximum time:     1.629 μs (89.36% GC)\n",
       "  --------------\n",
       "  samples:          10000\n",
       "  evals/sample:     992"
      ]
     },
     "execution_count": 15,
     "metadata": {},
     "output_type": "execute_result"
    }
   ],
   "source": [
    "v = randn(4)\n",
    "@benchmark $pm*$v"
   ]
  },
  {
   "cell_type": "code",
   "execution_count": 16,
   "metadata": {},
   "outputs": [
    {
     "data": {
      "text/plain": [
       "BenchmarkTools.Trial: \n",
       "  memory estimate:  144 bytes\n",
       "  allocs estimate:  1\n",
       "  --------------\n",
       "  minimum time:     64.578 ns (0.00% GC)\n",
       "  median time:      65.769 ns (0.00% GC)\n",
       "  mean time:        74.292 ns (6.80% GC)\n",
       "  maximum time:     1.419 μs (87.15% GC)\n",
       "  --------------\n",
       "  samples:          10000\n",
       "  evals/sample:     979"
      ]
     },
     "execution_count": 16,
     "metadata": {},
     "output_type": "execute_result"
    }
   ],
   "source": [
    "sp = SparseMatrixCSC(pm)\n",
    "@benchmark $sp*$v"
   ]
  },
  {
   "cell_type": "markdown",
   "metadata": {
    "slideshow": {
     "slide_type": "slide"
    }
   },
   "source": [
    "# Identity Matrix\n",
    "### Type Parameters v.s. Members\n",
    "Suppose we want to realize an identity matrix, we have two choices\n",
    "* let size $N$ be a **type parameter**\n",
    "* let size $n$ be a **member**"
   ]
  },
  {
   "cell_type": "code",
   "execution_count": 18,
   "metadata": {},
   "outputs": [],
   "source": [
    "# static size\n",
    "struct IMatrixS{N, Tv} <: AbstractMatrix{Tv} end\n",
    "\n",
    "# dynamic size\n",
    "struct IMatrixD{Tv} <: AbstractMatrix{Tv}\n",
    "    n::Int\n",
    "end"
   ]
  },
  {
   "cell_type": "markdown",
   "metadata": {
    "slideshow": {
     "slide_type": "slide"
    }
   },
   "source": [
    "# Kronecher Product"
   ]
  },
  {
   "cell_type": "markdown",
   "metadata": {},
   "source": [
    "$$\\left(\n",
    "\\begin{array}{cc}\n",
    " a_{11} & a_{12} \\\\\n",
    " a_{21} & a_{22} \\\\\n",
    "\\end{array}\n",
    "\\right)\\otimes\\left(\n",
    "\\begin{array}{cc}\n",
    " b_{11} & b_{12} \\\\\n",
    " b_{21} & b_{22} \\\\\n",
    " b_{31} & b_{32} \\\\\n",
    "\\end{array}\n",
    "\\right)=\\left(\n",
    "\\begin{array}{cc}\n",
    " \\left(\n",
    "\\begin{array}{cc}\n",
    " a_{11} b_{11} & a_{11} b_{12} \\\\\n",
    " a_{11} b_{21} & a_{11} b_{22} \\\\\n",
    " a_{11} b_{31} & a_{11} b_{32} \\\\\n",
    "\\end{array}\n",
    "\\right) & \\left(\n",
    "\\begin{array}{cc}\n",
    " a_{12} b_{11} & a_{12} b_{12} \\\\\n",
    " a_{12} b_{21} & a_{12} b_{22} \\\\\n",
    " a_{12} b_{31} & a_{12} b_{32} \\\\\n",
    "\\end{array}\n",
    "\\right) \\\\\n",
    " \\left(\n",
    "\\begin{array}{cc}\n",
    " a_{21} b_{11} & a_{21} b_{12} \\\\\n",
    " a_{21} b_{21} & a_{21} b_{22} \\\\\n",
    " a_{21} b_{31} & a_{21} b_{32} \\\\\n",
    "\\end{array}\n",
    "\\right) & \\left(\n",
    "\\begin{array}{cc}\n",
    " a_{22} b_{11} & a_{22} b_{12} \\\\\n",
    " a_{22} b_{21} & a_{22} b_{22} \\\\\n",
    " a_{22} b_{31} & a_{22} b_{32} \\\\\n",
    "\\end{array}\n",
    "\\right) \\\\\n",
    "\\end{array}\n",
    "\\right)$$"
   ]
  },
  {
   "cell_type": "markdown",
   "metadata": {},
   "source": [
    "If A is an m × n matrix and B is a p × q matrix, then the Kronecker product A ⊗ B is the mp × nq block matrix:\n",
    "$$\\mathbf{A}\\otimes\\mathbf{B} = \\begin{bmatrix} a_{11} \\mathbf{B} & \\cdots & a_{1n}\\mathbf{B} \\\\ \\vdots & \\ddots & \\vdots \\\\ a_{m1} \\mathbf{B} & \\cdots & a_{mn} \\mathbf{B} \\end{bmatrix}$$, \n",
    "more explicitly:\n",
    "$${\\mathbf{A}\\otimes\\mathbf{B}} = \\begin{bmatrix}\n",
    "   a_{11} b_{11} & a_{11} b_{12} & \\cdots & a_{11} b_{1q} &\n",
    "                   \\cdots & \\cdots & a_{1n} b_{11} & a_{1n} b_{12} & \\cdots & a_{1n} b_{1q} \\\\\n",
    "   a_{11} b_{21} & a_{11} b_{22} & \\cdots & a_{11} b_{2q} &\n",
    "                   \\cdots & \\cdots & a_{1n} b_{21} & a_{1n} b_{22} & \\cdots & a_{1n} b_{2q} \\\\\n",
    "   \\vdots & \\vdots & \\ddots & \\vdots & & & \\vdots & \\vdots & \\ddots & \\vdots \\\\\n",
    "   a_{11} b_{p1} & a_{11} b_{p2} & \\cdots & a_{11} b_{pq} &\n",
    "                   \\cdots & \\cdots & a_{1n} b_{p1} & a_{1n} b_{p2} & \\cdots & a_{1n} b_{pq} \\\\\n",
    "   \\vdots & \\vdots & & \\vdots & \\ddots & & \\vdots & \\vdots & & \\vdots \\\\\n",
    "   \\vdots & \\vdots & & \\vdots & & \\ddots & \\vdots & \\vdots & & \\vdots \\\\\n",
    "   a_{m1} b_{11} & a_{m1} b_{12} & \\cdots & a_{m1} b_{1q} &\n",
    "                   \\cdots & \\cdots & a_{mn} b_{11} & a_{mn} b_{12} & \\cdots & a_{mn} b_{1q} \\\\\n",
    "   a_{m1} b_{21} & a_{m1} b_{22} & \\cdots & a_{m1} b_{2q} &\n",
    "                   \\cdots & \\cdots & a_{mn} b_{21} & a_{mn} b_{22} & \\cdots & a_{mn} b_{2q} \\\\\n",
    "   \\vdots & \\vdots & \\ddots & \\vdots & & & \\vdots & \\vdots & \\ddots & \\vdots \\\\\n",
    "   a_{m1} b_{p1} & a_{m1} b_{p2} & \\cdots & a_{m1} b_{pq} &\n",
    "                   \\cdots & \\cdots & a_{mn} b_{p1} & a_{mn} b_{p2} & \\cdots & a_{mn} b_{pq}\n",
    "\\end{bmatrix}. $$\n",
    "More compactly, we have \n",
    "$$ (A\\otimes B)_{p(r-1)+v, q(s-1)+w} = a_{rs} b_{vw}$$\n"
   ]
  },
  {
   "cell_type": "markdown",
   "metadata": {
    "slideshow": {
     "slide_type": "slide"
    }
   },
   "source": [
    "# Kronecker product for identity matrix\n",
    "* if size is 1, do nothing\n",
    "* else, do kronecker product"
   ]
  },
  {
   "cell_type": "code",
   "execution_count": 19,
   "metadata": {
    "slideshow": {
     "slide_type": "-"
    }
   },
   "outputs": [
    {
     "data": {
      "text/plain": [
       "kron (generic function with 3 methods)"
      ]
     },
     "execution_count": 19,
     "metadata": {},
     "output_type": "execute_result"
    }
   ],
   "source": [
    "kron(A::IMatrixS{1}, B::AbstractMatrix) = B\n",
    "kron(A::IMatrixS{N}, B::AbstractMatrix) where N = println(\"kron!\")\n",
    "\n",
    "kron(A::IMatrixD, B::AbstractMatrix) = A.n == 1 ? B : println(\"kron!\") # potential type instability"
   ]
  },
  {
   "cell_type": "code",
   "execution_count": 20,
   "metadata": {
    "slideshow": {
     "slide_type": "slide"
    }
   },
   "outputs": [],
   "source": [
    "Is = IMatrixS{1, Float64}()\n",
    "Id = IMatrixD{Float64}(1)\n",
    "B = randn(7,7);"
   ]
  },
  {
   "cell_type": "code",
   "execution_count": 21,
   "metadata": {},
   "outputs": [
    {
     "data": {
      "text/plain": [
       "BenchmarkTools.Trial: \n",
       "  memory estimate:  0 bytes\n",
       "  allocs estimate:  0\n",
       "  --------------\n",
       "  minimum time:     1.642 ns (0.00% GC)\n",
       "  median time:      1.651 ns (0.00% GC)\n",
       "  mean time:        1.658 ns (0.00% GC)\n",
       "  maximum time:     32.101 ns (0.00% GC)\n",
       "  --------------\n",
       "  samples:          10000\n",
       "  evals/sample:     1000"
      ]
     },
     "execution_count": 21,
     "metadata": {},
     "output_type": "execute_result"
    }
   ],
   "source": [
    "@benchmark kron($Is, $B)"
   ]
  },
  {
   "cell_type": "code",
   "execution_count": 22,
   "metadata": {
    "scrolled": true
   },
   "outputs": [
    {
     "data": {
      "text/plain": [
       "BenchmarkTools.Trial: \n",
       "  memory estimate:  0 bytes\n",
       "  allocs estimate:  0\n",
       "  --------------\n",
       "  minimum time:     6.031 ns (0.00% GC)\n",
       "  median time:      6.049 ns (0.00% GC)\n",
       "  mean time:        6.064 ns (0.00% GC)\n",
       "  maximum time:     36.627 ns (0.00% GC)\n",
       "  --------------\n",
       "  samples:          10000\n",
       "  evals/sample:     1000"
      ]
     },
     "execution_count": 22,
     "metadata": {},
     "output_type": "execute_result"
    }
   ],
   "source": [
    "@benchmark kron($Id, $B)"
   ]
  },
  {
   "cell_type": "markdown",
   "metadata": {
    "slideshow": {
     "slide_type": "slide"
    }
   },
   "source": [
    "# Additional Content: Tensor Operations\n",
    "Fast tensor operations using a convenient index notation.\n",
    "## Example\n",
    "Einsten sum $y_i^j = x_{a}^b A_b^{p,j} A_{p,i}^{a~*}$\n",
    "<img src=\"attachment:tensorcontract.png\" width=\"400\">"
   ]
  },
  {
   "cell_type": "code",
   "execution_count": 29,
   "metadata": {
    "slideshow": {
     "slide_type": "slide"
    }
   },
   "outputs": [
    {
     "data": {
      "text/plain": [
       "20×20 Array{Float64,2}:\n",
       "  -0.177617   18.4366   -20.4183    …  -17.4491    94.0999    -58.8981  \n",
       "  46.1862     36.3921   -19.422        -11.2613    -5.1424     17.195   \n",
       "   8.36135    18.2125     8.45348      -16.1985   -18.1829     64.131   \n",
       "   4.30528    35.1844     3.84166       10.7331    33.6842     34.3711  \n",
       " -17.9034      5.39187    0.699516      -5.22375   21.8379     29.5238  \n",
       "   9.81681    -7.16406    5.40658   …  -19.5748    27.9285     38.1745  \n",
       "  -6.75604    23.6781    28.442          3.44052  -43.5157    -32.9992  \n",
       "   1.10377    48.2976   -25.9535       -20.4091    44.3723    -31.5959  \n",
       "  48.9961     31.0177    -3.82585       12.5639    53.6334     66.5921  \n",
       " -10.8983    -15.5956   -23.3466         9.74706   50.9358     48.8262  \n",
       "  57.5245    -38.6412     4.91289   …   -8.28242   21.4517      5.85023 \n",
       "  -6.98091   -18.804     16.3603        -3.10294  -35.3248     -2.05165 \n",
       "   1.04492    12.8999    41.731        -13.212     43.4116     18.0755  \n",
       " -11.1369    -38.1108    23.7869       -13.0908   -50.0706     33.3062  \n",
       "  17.8941     31.359    -15.4729        -5.03443   -1.14382   -70.4763  \n",
       "  40.2857     14.8488    24.4345    …  -34.6861    -8.44533    92.9775  \n",
       " -12.0399    -35.1914   -21.6323        29.3243   -61.2279     34.4938  \n",
       "   5.03555    -5.48746  -33.0713        14.4106     7.36107   -21.4423  \n",
       "   0.209879    4.77159   18.5363       -23.7       -0.856613   -0.710268\n",
       "  21.5623    -14.1648    38.7728       -30.1015   -64.5221     64.2874  "
      ]
     },
     "execution_count": 29,
     "metadata": {},
     "output_type": "execute_result"
    }
   ],
   "source": [
    "using TensorOperations\n",
    "x = randn(20, 20)\n",
    "A = randn(20, 2, 20)\n",
    "@tensor y[i, j] := (x[a, b] * A[b, p, j]) * conj(A[a, p, i])"
   ]
  },
  {
   "cell_type": "markdown",
   "metadata": {
    "slideshow": {
     "slide_type": "slide"
    }
   },
   "source": [
    "# Additional Content: Type stability\n",
    "* **stable**: variable can be inferenced and has concrete type\n",
    "* **instable**: not pointed to some allocated memory address, boxing is needed\n",
    "\n",
    "<img src=\"attachment:typestable.png\" width=\"500\">"
   ]
  },
  {
   "cell_type": "code",
   "execution_count": 34,
   "metadata": {
    "slideshow": {
     "slide_type": "slide"
    }
   },
   "outputs": [
    {
     "data": {
      "text/plain": [
       "f (generic function with 1 method)"
      ]
     },
     "execution_count": 34,
     "metadata": {},
     "output_type": "execute_result"
    }
   ],
   "source": [
    "function f()\n",
    "    x = 1.0\n",
    "    x *= im\n",
    "end"
   ]
  },
  {
   "cell_type": "code",
   "execution_count": 35,
   "metadata": {
    "slideshow": {
     "slide_type": "slide"
    }
   },
   "outputs": [
    {
     "name": "stdout",
     "output_type": "stream",
     "text": [
      "Variables:\n",
      "  #self#::#f\n",
      "  x\u001b[1m\u001b[91m::Union{Complex{Float64}, Float64}\u001b[39m\u001b[22m\n",
      "\n",
      "Body:\n",
      "  begin \n",
      "      x\u001b[1m\u001b[91m::Union{Complex{Float64}, Float64}\u001b[39m\u001b[22m = 1.0 # line 3:\n",
      "      SSAValue(0) = $(Expr(:new, Complex{Float64}, :((Base.select_value)((Core.getfield)(Main.im, :re)::Bool, x::Float64, (Base.copysign_float)((Base.sitofp)(Float64, 0)::Float64, x::Float64)::Float64)::Float64), :((Base.select_value)((Core.getfield)(Main.im, :im)::Bool, x::Float64, (Base.copysign_float)((Base.sitofp)(Float64, 0)::Float64, x::Float64)::Float64)::Float64)))\n",
      "      x\u001b[1m\u001b[91m::Union{Complex{Float64}, Float64}\u001b[39m\u001b[22m = SSAValue(0)\n",
      "      return SSAValue(0)\n",
      "  end::Complex{Float64}\n"
     ]
    }
   ],
   "source": [
    "@code_warntype f()"
   ]
  },
  {
   "cell_type": "code",
   "execution_count": 36,
   "metadata": {
    "slideshow": {
     "slide_type": "slide"
    }
   },
   "outputs": [
    {
     "data": {
      "text/plain": [
       "BenchmarkTools.Trial: \n",
       "  memory estimate:  62.48 KiB\n",
       "  allocs estimate:  2000\n",
       "  --------------\n",
       "  minimum time:     21.540 μs (0.00% GC)\n",
       "  median time:      22.625 μs (0.00% GC)\n",
       "  mean time:        28.455 μs (16.60% GC)\n",
       "  maximum time:     2.157 ms (95.53% GC)\n",
       "  --------------\n",
       "  samples:          10000\n",
       "  evals/sample:     1"
      ]
     },
     "execution_count": 36,
     "metadata": {},
     "output_type": "execute_result"
    }
   ],
   "source": [
    "function f_iter()\n",
    "    x = 1.0\n",
    "    for i = 1:1000\n",
    "        x *= im\n",
    "    end\n",
    "    x\n",
    "end\n",
    "@benchmark f_iter()"
   ]
  },
  {
   "cell_type": "code",
   "execution_count": 48,
   "metadata": {
    "slideshow": {
     "slide_type": "slide"
    }
   },
   "outputs": [
    {
     "data": {
      "text/plain": [
       "BenchmarkTools.Trial: \n",
       "  memory estimate:  0 bytes\n",
       "  allocs estimate:  0\n",
       "  --------------\n",
       "  minimum time:     4.007 μs (0.00% GC)\n",
       "  median time:      4.008 μs (0.00% GC)\n",
       "  mean time:        4.014 μs (0.00% GC)\n",
       "  maximum time:     7.862 μs (0.00% GC)\n",
       "  --------------\n",
       "  samples:          10000\n",
       "  evals/sample:     8"
      ]
     },
     "execution_count": 48,
     "metadata": {},
     "output_type": "execute_result"
    }
   ],
   "source": [
    "function f_iter_stable()\n",
    "    x = 1.0 + 0im\n",
    "    for i = 1:1000\n",
    "        x *= im\n",
    "    end\n",
    "    x\n",
    "end\n",
    "@benchmark f_iter_stable()"
   ]
  },
  {
   "cell_type": "code",
   "execution_count": 50,
   "metadata": {
    "slideshow": {
     "slide_type": "slide"
    }
   },
   "outputs": [
    {
     "name": "stdout",
     "output_type": "stream",
     "text": [
      "Variables:\n",
      "  #self#::#f_iter_stable\n",
      "  i::Int64\n",
      "  #temp#::Int64\n",
      "  x::Complex{Float64}\n",
      "\n",
      "Body:\n",
      "  begin \n",
      "      SSAValue(7) = (Base.select_value)((Core.getfield)(Main.im, :re)::Bool, 0, (Base.flipsign_int)(0, (Base.xor_int)(0, 0)::Int64)::Int64)::Int64\n",
      "      SSAValue(8) = (Base.select_value)((Core.getfield)(Main.im, :im)::Bool, 0, (Base.flipsign_int)(0, (Base.xor_int)(0, 0)::Int64)::Int64)::Int64\n",
      "      x::Complex{Float64} = $(Expr(:new, Complex{Float64}, :((Base.add_float)(1.0, (Base.sitofp)(Float64, SSAValue(7))::Float64)::Float64), :((Base.sitofp)(Float64, SSAValue(8))::Float64))) # line 3:\n",
      "      SSAValue(9) = (Base.select_value)((Base.sle_int)(1, 1000)::Bool, 1000, (Base.sub_int)(1, 1)::Int64)::Int64\n",
      "      #temp#::Int64 = 1\n",
      "      7: \n",
      "      unless (Base.not_int)((#temp#::Int64 === (Base.add_int)(SSAValue(9), 1)::Int64)::Bool)::Bool goto 24\n",
      "      SSAValue(10) = #temp#::Int64\n",
      "      SSAValue(11) = (Base.add_int)(#temp#::Int64, 1)::Int64\n",
      "      #temp#::Int64 = SSAValue(11) # line 4:\n",
      "      $(Expr(:inbounds, false))\n",
      "      # meta: location complex.jl * 223\n",
      "      SSAValue(6) = (Core.getfield)(x::Complex{Float64}, :re)::Float64\n",
      "      SSAValue(5) = (Core.getfield)(x::Complex{Float64}, :im)::Float64\n",
      "      SSAValue(4) = (Core.getfield)(x::Complex{Float64}, :re)::Float64\n",
      "      SSAValue(3) = (Core.getfield)(x::Complex{Float64}, :im)::Float64\n",
      "      # meta: pop location\n",
      "      $(Expr(:inbounds, :pop))\n",
      "      x::Complex{Float64} = $(Expr(:new, Complex{Float64}, :((Base.sub_float)((Base.select_value)((Core.getfield)(Main.im, :re)::Bool, SSAValue(6), (Base.copysign_float)((Base.sitofp)(Float64, 0)::Float64, SSAValue(6))::Float64)::Float64, (Base.select_value)((Core.getfield)(Main.im, :im)::Bool, SSAValue(5), (Base.copysign_float)((Base.sitofp)(Float64, 0)::Float64, SSAValue(5))::Float64)::Float64)::Float64), :((Base.add_float)((Base.select_value)((Core.getfield)(Main.im, :im)::Bool, SSAValue(4), (Base.copysign_float)((Base.sitofp)(Float64, 0)::Float64, SSAValue(4))::Float64)::Float64, (Base.select_value)((Core.getfield)(Main.im, :re)::Bool, SSAValue(3), (Base.copysign_float)((Base.sitofp)(Float64, 0)::Float64, SSAValue(3))::Float64)::Float64)::Float64)))\n",
      "      22: \n",
      "      goto 7\n",
      "      24:  # line 6:\n",
      "      return x::Complex{Float64}\n",
      "  end::Complex{Float64}\n"
     ]
    }
   ],
   "source": [
    "@code_warntype f_iter_stable()"
   ]
  },
  {
   "cell_type": "markdown",
   "metadata": {
    "slideshow": {
     "slide_type": "slide"
    }
   },
   "source": [
    "### \"const\" Keyword and type check\n",
    "Using `const` keyword/type check, one can partly avoid type instability. `const` in julia means **an identifier never rebound**.\n",
    "\n",
    "These tricks are useful for especially global variables, but loss generality."
   ]
  },
  {
   "cell_type": "code",
   "execution_count": 23,
   "metadata": {
    "slideshow": {
     "slide_type": "slide"
    }
   },
   "outputs": [
    {
     "data": {
      "text/plain": [
       "1"
      ]
     },
     "execution_count": 23,
     "metadata": {},
     "output_type": "execute_result"
    }
   ],
   "source": [
    "const c = 1"
   ]
  },
  {
   "cell_type": "code",
   "execution_count": 24,
   "metadata": {},
   "outputs": [
    {
     "data": {
      "text/plain": [
       "3"
      ]
     },
     "execution_count": 24,
     "metadata": {},
     "output_type": "execute_result"
    },
    {
     "name": "stderr",
     "output_type": "stream",
     "text": [
      "WARNING: redefining constant c\n"
     ]
    }
   ],
   "source": [
    "c = 3"
   ]
  },
  {
   "cell_type": "code",
   "execution_count": 26,
   "metadata": {},
   "outputs": [
    {
     "ename": "LoadError",
     "evalue": "\u001b[91minvalid redefinition of constant c\u001b[39m",
     "output_type": "error",
     "traceback": [
      "\u001b[91minvalid redefinition of constant c\u001b[39m",
      ""
     ]
    }
   ],
   "source": [
    "c = 3.3"
   ]
  },
  {
   "cell_type": "code",
   "execution_count": 27,
   "metadata": {
    "scrolled": true,
    "slideshow": {
     "slide_type": "slide"
    }
   },
   "outputs": [
    {
     "ename": "LoadError",
     "evalue": "\u001b[91mInexactError()\u001b[39m",
     "output_type": "error",
     "traceback": [
      "\u001b[91mInexactError()\u001b[39m",
      "",
      "Stacktrace:",
      " [1] \u001b[1mconvert\u001b[22m\u001b[22m at \u001b[1m./complex.jl:31\u001b[22m\u001b[22m [inlined]",
      " [2] \u001b[1mf_iter_checktype\u001b[22m\u001b[22m\u001b[1m(\u001b[22m\u001b[22m\u001b[1m)\u001b[22m\u001b[22m at \u001b[1m./In[27]:5\u001b[22m\u001b[22m"
     ]
    }
   ],
   "source": [
    "# with type check\n",
    "function f_iter_checktype()\n",
    "    x::Float64 = 1.0\n",
    "    for i = 1:1000\n",
    "        x *= im\n",
    "    end\n",
    "    x\n",
    "end\n",
    "f_iter_checktype()"
   ]
  },
  {
   "cell_type": "markdown",
   "metadata": {
    "slideshow": {
     "slide_type": "slide"
    }
   },
   "source": [
    "# Thanks!\n",
    "![](data:image/png;base64,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)\n",
    "\n",
    "# end"
   ]
  },
  {
   "cell_type": "code",
   "execution_count": null,
   "metadata": {},
   "outputs": [],
   "source": []
  }
 ],
 "metadata": {
  "celltoolbar": "Slideshow",
  "kernelspec": {
   "display_name": "Julia 0.6.0",
   "language": "julia",
   "name": "julia-0.6"
  },
  "language_info": {
   "file_extension": ".jl",
   "mimetype": "application/julia",
   "name": "julia",
   "version": "0.6.0"
  }
 },
 "nbformat": 4,
 "nbformat_minor": 2
}
